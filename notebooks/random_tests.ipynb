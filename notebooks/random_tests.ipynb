{
 "cells": [
  {
   "cell_type": "code",
   "execution_count": 2,
   "id": "5da56015",
   "metadata": {},
   "outputs": [],
   "source": [
    "import sqlite3"
   ]
  },
  {
   "cell_type": "code",
   "execution_count": 8,
   "id": "b07a6e7f",
   "metadata": {},
   "outputs": [
    {
     "name": "stdout",
     "output_type": "stream",
     "text": [
      "[(144, 'https://www.coffeereview.com/review/sunburst/', 0.75, 'modcup', 'Sunburst', 'Jersey City, New Jersey', 'colombia; ethiopia', 'Light', '63/85', '$25.00/250 grams', '2025-05-01', 0.9, 0.8, 0.9, 0.75, 0.8, 'Berry-toned, citrusy-sweet. Strawberry, lemon verbena, cocoa butter, brown sugar, sassafras in aroma and cup. Briskly sweet acidity; very full, syrupy mouthfeel. Strawberry and cocoa notes carry the juicy finish.', 'A blend of four coffees: a washed Colombia, a Colombia co-fermented with peaches, a Colombia co-fermented with strawberries and a washed Ethiopia. Founded in 2013, modcup focuses on fresh roasting and distinctive natural-processed coffees. This special release is available to members of modcup’s Deepcuts list. Visitmodcup.comfor more information.', 'A blend of coffees from Colombia and Ethiopia that represent three different types of processing, resulting in a nuanced, dreamy, vivacious cup.', 0.0, 'modcup_Sunburst', \"['colombia', 'ethiopia']\", 'hot_black', \"['natural', 'washed']\", \"{'Fruity': ['lemon', 'strawberry'], 'Sweet': ['brown sugar', 'sweet'], 'Nutty/Cocoa': ['cocoa'], 'Mouthfeel': ['juicy', 'syrupy'], 'Aftertaste': ['sweet']}\", 'Fruity (lemon, strawberry); Sweet (brown sugar, sweet); Nutty/Cocoa (cocoa); Mouthfeel (juicy, syrupy); Aftertaste (sweet)', \"['colombia']\", 0.0119954303122619, 0.1233671988388969, 0.004991269687296, 2025, 'standard'), (138, 'https://www.coffeereview.com/review/in-bloom/', 0.7999999999999998, 'modcup', 'In Bloom', 'Jersey City, New Jersey', 'colombia; ethiopia', 'Light', '64/88', '$25.00/250 grams', '2025-05-01', 0.9, 0.9, 0.9, 0.75, 0.8, 'Richly floral-toned, deeply sweet, gently tart. Star jasmine, tea rose, narcissus, blood orange cocoa nib in aroma and cup. Sparkling acidity; very syrupy mouthfeel. Floral-toned finish that is both sweet and spice-toned.', 'A blend of three coffees: a washed Colombia, a washed Ethiopia and a thermal-shock anaerobic from Wilton Benitez’s Al Paraiso 92 Cauca farm. Founded in 2013, modcup focuses on fresh roasting and distinctive natural-processed coffees. This special release is available to members of modcup’s Deepcuts list. Visitmodcup.comfor more information.', 'All flowers all the time — this blend of floral-toned coffees takes you through a veritable garden in bloom with notes of rose, narcissus, jasmine and other complex florals.', 0.0, 'modcup_In Bloom', \"['colombia', 'ethiopia']\", 'hot_black', \"['anaerobic', 'natural', 'washed']\", \"{'Fruity': ['orange'], 'Floral': ['floral', 'jasmine', 'rose'], 'Sweet': ['sweet'], 'Nutty/Cocoa': ['cocoa'], 'Spicy': ['spice'], 'Mouthfeel': ['syrupy'], 'Acidity': ['sparkling', 'tart'], 'Aftertaste': ['sweet']}\", 'Fruity (orange); Floral (floral, jasmine, rose); Sweet (sweet); Nutty/Cocoa (cocoa); Spicy (spice); Mouthfeel (syrupy); Acidity (sparkling, tart); Aftertaste (sweet)', \"['colombia']\", 0.0121858339680121, 0.127721335268505, 0.004991269687296, 2025, 'standard'), (315, 'https://www.coffeereview.com/review/ethiopia-gesha-village-lot-108/', 0.7999999999999998, 'modcup', 'Ethiopia Gesha Village Lot 108', 'Jersey City, New Jersey', 'bench-maji zone, southern ethiopia', 'Light', '66/89', '$30.00/50 grams', '2025-01-01', 0.9, 0.9, 0.8, 0.75, 0.9, 'Elegant, floral-toned, sweetly herbaceous. Narcissus, agave syrup, dried apricot, marjoram, salted almond in aroma and cup. Delicately bright, gently tart acidity; crisp, lightly satiny mouthfeel. Very long, flavor-saturated, harmonious finish.', 'Produced from trees of the rare Ethiopia-derived botanical variety Gesha (also Geisha) by Adam and Rachel Overton. With its generally elongated beans and distinctive floral and crisp, often chocolaty cup, the Gesha variety continues to distinguish itself as one of the world’s most unique coffees. Although the Gesha variety originated in Ethiopia, it was “discovered” by the coffee world in 2004 growing in Boquete, Panama, and Panama continues to dominate the expanding world of Gesha. This particular version, however, is the outcome of efforts to commercialize Gesha in the region from which it originally came. It is processed by the anaerobic natural method, fermented with mosto, fresh-pressed juice from the coffee fruit. Founded in 2013, modcup coffee focuses on fresh roasting and distinctive natural-processed coffees. This special release is available to members of modcup’s Deepcuts list. Visitmodcup.comfor more information.', 'This floral-driven Ethiopia Geisha anaerobic is paradoxically plush and restrained, with leading notes of spicy florals and sweet, complex herbs.', 0.0, 'modcup_Ethiopia Gesha Village Lot 108', \"['ethiopia']\", 'hot_black', \"['anaerobic', 'natural']\", \"{'Fruity': ['apricot'], 'Floral': ['floral'], 'Nutty/Cocoa': ['almond'], 'Acidity': ['bright', 'crisp', 'tart'], 'Aftertaste': ['long']}\", 'Fruity (apricot); Floral (floral); Nutty/Cocoa (almond); Acidity (bright, crisp, tart); Aftertaste (long)', \"['geisha']\", 0.0125666412795125, 0.1291727140783744, 0.0300005291098608, 2025, 'premium'), (141, 'https://www.coffeereview.com/review/da-funk/', 0.75, 'modcup', 'Da Funk', 'Jersey City, New Jersey', 'colombia; ethiopia', 'Light', '62/87', '$25.00/250 grams', '2025-05-01', 0.9, 0.8, 0.9, 0.75, 0.8, 'Sweetly fermenty, crisply fruit-forward. Rum barrel, dried raspberry, chocolate syrup, maraschino cherry, salted almond in aroma and cup. Crisp, tart acidity; plush, creamy mouthfeel. Chocolaty, sweetly fermenty finish.', 'A blend of two coffees: an Ethiopia Guji natural and a Café La Granja, Colombia natural. Founded in 2013, modcup focuses on fresh roasting and distinctive natural-processed coffees. This special release is available to members of modcup’s Deepcuts list. Visitmodcup.comfor more information.', 'A boozy, berry-toned, richly chocolaty blend with an especially full, viscous body.', 0.0, 'modcup_Da Funk', \"['colombia', 'ethiopia']\", 'hot_black', \"['natural']\", \"{'Fruity': ['cherry', 'fruit', 'raspberry'], 'Nutty/Cocoa': ['almond', 'chocolate'], 'Winey/Fermented': ['rum'], 'Mouthfeel': ['creamy'], 'Acidity': ['crisp', 'tart']}\", 'Fruity (cherry, fruit, raspberry); Nutty/Cocoa (almond, chocolate); Winey/Fermented (rum); Mouthfeel (creamy); Acidity (crisp, tart)', \"['colombia']\", 0.0118050266565118, 0.1262699564586357, 0.004991269687296, 2025, 'value'), (593, 'https://www.coffeereview.com/review/colombia-wilton-benitez-yellow-bourbon/', 0.7999999999999998, 'modcup', 'Colombia Wilton Benitez Yellow Bourbon', 'Jersey City, New Jersey', 'piendamó, cauca department, colombia', 'Light', '65/90', '$31.00/250 grams', '2024-08-01', 0.9, 0.9, 0.8, 0.75, 0.9, 'Complex, richly sweet-tart. Strawberry-guava, kumquat, narcissus, raw cacao, amber in aroma and cup. Juicy, citric acidity; crisp, satiny mouthfeel. Flavor-laden finish led by notes of strawberry-guava and amber with support from kumquat.', 'Produced by Wilton Benitez of Granja Paraiso 92, entirely of the Yellow Bourbon variety of Arabica, and processed by the double-anaerobic thermal shock method, in which the coffee fruit, after having been first sanitized with ozone, undergoes two stages of fermentation. First, the whole cherries are submerged under water for 48 hours, then the beans are pulped and fermented with wine yeasts.Founded in 2013, modcup coffee focuses on fresh roasting and distinctive natural-processed coffees. This special release is available to members of modcup’sDeepcuts list. Visitmodcup.comfor more information.', 'An exciting, vibrant, tropical-leaning Colombia Yellow Bourbon anaerobic that’s equal parts floral and fruit-toned — especially deep, focused finish.', 0.0, 'modcup_Colombia Wilton Benitez Yellow Bourbon', \"['colombia']\", 'hot_black', \"['anaerobic', 'natural']\", \"{'Fruity': ['guava', 'strawberry'], 'Sweet': ['sweet'], 'Mouthfeel': ['juicy'], 'Acidity': ['complex', 'crisp', 'tart'], 'Aftertaste': ['sweet']}\", 'Fruity (guava, strawberry); Sweet (sweet); Mouthfeel (juicy); Acidity (complex, crisp, tart); Aftertaste (sweet)', \"['arabica', 'bourbon', 'yellow bourbon']\", 0.0123762376237623, 0.1306240928882438, 0.0062082223672375, 2024, 'premium'), (590, 'https://www.coffeereview.com/review/colombia-wilton-benitez-striped-bourbon-thermal-shock/', 0.8499999999999996, 'modcup', 'Colombia Wilton Benitez Striped Bourbon Thermal Shock', 'Jersey City, New Jersey', 'piendamó, cauca department, colombia', 'Light', '65/92', '$31.00/125 grams', '2024-07-01', 0.9, 0.9, 0.9, 0.75, 0.9, 'Bright, juicy, floral-toned. Tangerine, plumeria (frangipani) red plum, cocoa nib, tarragon in aroma and cup. Sparkling (phosphoric) acidity; delicately satiny, very smooth mouthfeel. The resonant finish carries over all the flavor notes from the cup.', 'Produced by Wilton Benitez of Granja Paraiso 92, entirely of the Striped Bourbon variety of Arabica, and processed by the double-anaerobic thermal shock method, in which the coffee fruit, after having been first sanitized with ozone, undergoes two stages of fermentation. First, the whole cherries are submerged under water for 48 hours, then the beans are pulped and fermented with wine yeasts. Founded in 2013, modcup coffee focuses on fresh roasting and distinctive natural-processed coffees. Visitmodcup.comfor more information.', 'This is a coffee that balances bright citrus, sweet florals and rich herbs with aplomb — it’s got a compelling intrigue very much worth pursuing.', 0.0, 'modcup_Colombia Wilton Benitez Striped Bourbon Thermal Shock', \"['colombia']\", 'hot_black', \"['anaerobic', 'natural']\", \"{'Fruity': ['plum', 'tangerine'], 'Floral': ['floral'], 'Nutty/Cocoa': ['cocoa'], 'Mouthfeel': ['juicy', 'smooth'], 'Acidity': ['bright', 'sparkling']}\", 'Fruity (plum, tangerine); Floral (floral); Nutty/Cocoa (cocoa); Mouthfeel (juicy, smooth); Acidity (bright, sparkling)', \"['arabica', 'bourbon']\", 0.0123762376237623, 0.1335268505079825, 0.0123988077391135, 2024, 'premium'), (587, 'https://www.coffeereview.com/review/colombia-wilton-benitez-red-bourbon/', 0.7999999999999998, 'modcup', 'Colombia Wilton Benitez Red Bourbon', 'Jersey City, New Jersey', 'piendamó, cauca department, colombia', 'Light', '66/88', '$31.00/250 grams', '2024-08-01', 0.9, 0.9, 0.9, 0.75, 0.8, 'Berry-toned, intensely sweet. Dried mulberry, marjoram, cocoa nib, freesia, watermelon candy in aroma and cup. Lively, sparkling (phosphoric) acidity; plush, syrupy mouthfeel. Concentrated finish carried by dried mulberry and freesia notes with undertones of cocoa nib.', 'Produced by Wilton Benitez of Granja Paraiso 92, entirely of the Red Bourbon variety of Arabica, and processed by the double-anaerobic thermal shock method, in which the coffee fruit, after having been first sanitized with ozone, undergoes two stages of fermentation. First, the whole cherries are submerged under water for 48 hours, then the beans are pulped and fermented with wine yeasts. Founded in 2013, modcup coffee focuses on fresh roasting and distinctive natural-processed coffees. This special release is available to members of modcup’s Deepcuts list. Visitmodcup.comfor more information.', 'A lush, clearly expressed, fruit-forward yet balanced, high-toned Colombia Red Bourbon produced by Wilton Benitez, who’s known for his controlled processing experiments.', 0.0, 'modcup_Colombia Wilton Benitez Red Bourbon', \"['colombia']\", 'hot_black', \"['anaerobic', 'natural']\", \"{'Sweet': ['sweet'], 'Nutty/Cocoa': ['cocoa'], 'Mouthfeel': ['syrupy'], 'Acidity': ['lively', 'sparkling'], 'Aftertaste': ['sweet']}\", 'Sweet (sweet); Nutty/Cocoa (cocoa); Mouthfeel (syrupy); Acidity (lively, sparkling); Aftertaste (sweet)', \"['arabica', 'bourbon', 'red bourbon']\", 0.0125666412795125, 0.127721335268505, 0.0062082223672375, 2024, 'standard'), (600, 'https://www.coffeereview.com/review/colombia-wilton-benitez-natural-decaf/', 0.75, 'modcup', 'Colombia Wilton Benitez Natural Decaf', 'Jersey City, New Jersey', 'piendamó, cauca department, colombia', 'Medium-Light', '60/78', '$23.00/250 grams', '2024-07-01', 0.9, 0.8, 0.8, 0.75, 0.9, 'Sweetly tart, gently herbaceous. Meyer lemon zest, bay leaf, baking chocolate, date, myrrh in aroma and cup. Brisk, sweet acidity; crisp, satiny mouthfeel. Especially long, vibrant finish with lingering notes of baking chocolate, date and myrrh.', 'Produced by Wilton Benitez of Gran Paraiso 92, from trees of the Colombia and Caturra varieties of Arabica, and decaffeinated in Colombia using ethyl acetate, a solvent derived from sugar cane. Founded in 2013, modcup coffee focuses on fresh roasting and distinctive natural-processed coffees. Visitmodcup.comfor more information.', 'One of the nicest decafs in recent memory — citrusy and sweetly herbaceous with a depth few decafs achieve.', 0.0, 'modcup_Colombia Wilton Benitez Natural Decaf', \"['colombia']\", 'hot_black', \"['natural']\", \"{'Fruity': ['date', 'lemon', 'zest'], 'Sweet': ['sweet'], 'Nutty/Cocoa': ['chocolate'], 'Acidity': ['crisp', 'tart', 'vibrant'], 'Aftertaste': ['lingering', 'long', 'sweet']}\", 'Fruity (date, lemon, zest); Sweet (sweet); Nutty/Cocoa (chocolate); Acidity (crisp, tart, vibrant); Aftertaste (lingering, long, sweet)', \"['arabica', 'caturra', 'colombia']\", 0.0114242193450114, 0.1132075471698113, 0.0046032557893437, 2024, 'premium'), (596, 'https://www.coffeereview.com/review/colombia-wilton-benitez-gesha-thermal-shock-wine-yeast/', 0.9000000000000004, 'modcup', 'Colombia Wilton Benitez Gesha Thermal Shock Wine Yeast', 'Jersey City, New Jersey', 'piendamó, cauca department, colombia', 'Light', '68/92', '$31.00/125 grams', '2024-07-01', 0.9, 0.9, 0.9, 1.0, 0.9, 'Very sweet, tropical and floral-toned. Vanilla orchid, guava, dried ginger, kola nut, lemongrass in aroma and cup. Vibrant, juicy acidity; silky, viscous mouthfeel. Exceptionally long, harmonious, integrated finish.', 'This outstanding coffee was selected as the No. 28 coffee onCoffee Review’slist of the Top 30 Coffees of 2024. Produced by Wilton Benitez of Granja Paraiso 92, entirely of the Gesha variety of Arabica, and processed by the double-anaerobic thermal shock method, in which the coffee fruit, after having been first sanitized with ozone, undergoes two stages of fermentation. First, the whole cherries are submerged under water for 48 hours, then the beans are pulped and fermented with wine yeasts. Founded in 2013, modcup coffee focuses on fresh roasting and distinctive natural-processed coffees. Visitmodcup.comfor more information.', 'A heady, intoxicating, lushly aromatic anaerobic Colombia Gesha that’s tropical, rich and elegantly composed.', 0.0, 'modcup_Colombia Wilton Benitez Gesha Thermal Shock Wine Yeast', \"['colombia']\", 'hot_black', \"['anaerobic', 'natural']\", \"{'Fruity': ['guava'], 'Floral': ['floral'], 'Sweet': ['sweet', 'vanilla'], 'Spicy': ['ginger'], 'Earthy/Herbal': ['lemongrass'], 'Mouthfeel': ['juicy', 'silky'], 'Acidity': ['vibrant'], 'Aftertaste': ['long', 'sweet']}\", 'Fruity (guava); Floral (floral); Sweet (sweet, vanilla); Spicy (ginger); Earthy/Herbal (lemongrass); Mouthfeel (juicy, silky); Acidity (vibrant); Aftertaste (long, sweet)', \"['arabica', 'geisha']\", 0.0129474485910129, 0.1335268505079825, 0.0123988077391135, 2024, 'premium'), (719, 'https://www.coffeereview.com/review/colombia-rigoberto-herrera-granja-la-esperanza-hybrid-washed-gesha/', 0.8499999999999996, 'modcup', 'Colombia Rigoberto Herrera Granja La Esperanza Hybrid Washed Gesha', 'Jersey City, New Jersey', 'cauca department, colombia', 'Light', '66/90', '$60.00/250 grams', '2024-05-01', 0.9, 0.9, 0.9, 0.75, 0.9, 'Lushly aromatic, deeply floral-toned. Wisteria, ginger blossom, nectarine, pink grapefruit, lemon balm in aroma and cup. Delicately bright, confident acidity; exceptionally silky-smooth mouthfeel. Notes of wisteria and ginger blossom harmonize alongside a throughline of nectarine and citrus undertones.', 'Produced by Rigoberto Herrera of Granja La Esperanza, entirely of the Gesha variety of Arabica, and processed by a proprietary hybrid washed method, in which the whole cherries are fermented in water for 19-22 hours. Then, the fruit is depulped and undergoes a second fermentation begins, this time in parchment and mucilage for 35 hours. Founded in 2013, modcup coffee focuses on fresh roasting and distinctive natural-processed coffees. Visitmodcup.comfor more information.', 'Sweet and spice-toned florals are front and center in this experimentally processed Colombia Geisha with gently bright stone fruit, sweet herb, and pretty citrus notes throughout the profile.', 0.0, 'modcup_Colombia Rigoberto Herrera Granja La Esperanza Hybrid Washed Gesha', \"['colombia']\", 'hot_black', \"['natural', 'washed']\", \"{'Fruity': ['grapefruit', 'lemon', 'nectarine'], 'Floral': ['floral'], 'Spicy': ['ginger'], 'Mouthfeel': ['silky', 'smooth'], 'Acidity': ['bright']}\", 'Fruity (grapefruit, lemon, nectarine); Floral (floral); Spicy (ginger); Mouthfeel (silky, smooth); Acidity (bright)', \"['arabica', 'geisha']\", 0.0125666412795125, 0.1306240928882438, 0.0119931568457997, 2024, None)]\n"
     ]
    }
   ],
   "source": [
    "conn = sqlite3.connect(\"/home/mrcan/coffee-rating/data/processed/coffee_database.db\")\n",
    "cursor = conn.cursor()\n",
    "\n",
    "query = '''\n",
    "    SELECT *\n",
    "    FROM coffees\n",
    "    LIMIT 10;\n",
    "'''\n",
    "\n",
    "cursor.execute(query)\n",
    "rows = cursor.fetchall()\n",
    "print(rows)"
   ]
  },
  {
   "cell_type": "code",
   "execution_count": 1,
   "id": "122e08ca",
   "metadata": {},
   "outputs": [
    {
     "name": "stdout",
     "output_type": "stream",
     "text": [
      "Downloading sentence-transformers/all-mpnet-base-v2...\n"
     ]
    },
    {
     "data": {
      "application/vnd.jupyter.widget-view+json": {
       "model_id": "3b58cd46eeaa41249cd2d584dcbd05fd",
       "version_major": 2,
       "version_minor": 0
      },
      "text/plain": [
       "modules.json:   0%|          | 0.00/349 [00:00<?, ?B/s]"
      ]
     },
     "metadata": {},
     "output_type": "display_data"
    },
    {
     "data": {
      "application/vnd.jupyter.widget-view+json": {
       "model_id": "1a8e49efb6354c6b8962c717d83d3e95",
       "version_major": 2,
       "version_minor": 0
      },
      "text/plain": [
       "config_sentence_transformers.json:   0%|          | 0.00/116 [00:00<?, ?B/s]"
      ]
     },
     "metadata": {},
     "output_type": "display_data"
    },
    {
     "data": {
      "application/vnd.jupyter.widget-view+json": {
       "model_id": "14329572616242d190ef4f84b4ce1856",
       "version_major": 2,
       "version_minor": 0
      },
      "text/plain": [
       "README.md: 0.00B [00:00, ?B/s]"
      ]
     },
     "metadata": {},
     "output_type": "display_data"
    },
    {
     "data": {
      "application/vnd.jupyter.widget-view+json": {
       "model_id": "8b2afe74c3574125a21ebb289876d655",
       "version_major": 2,
       "version_minor": 0
      },
      "text/plain": [
       "sentence_bert_config.json:   0%|          | 0.00/53.0 [00:00<?, ?B/s]"
      ]
     },
     "metadata": {},
     "output_type": "display_data"
    },
    {
     "data": {
      "application/vnd.jupyter.widget-view+json": {
       "model_id": "6678e461470e418993fea99a1c0ee6f0",
       "version_major": 2,
       "version_minor": 0
      },
      "text/plain": [
       "config.json:   0%|          | 0.00/190 [00:00<?, ?B/s]"
      ]
     },
     "metadata": {},
     "output_type": "display_data"
    },
    {
     "name": "stdout",
     "output_type": "stream",
     "text": [
      "Model saved to ./sbert_model\n"
     ]
    }
   ],
   "source": [
    "from sentence_transformers import SentenceTransformer\n",
    "\n",
    "model_name = \"sentence-transformers/all-mpnet-base-v2\"\n",
    "save_path = \"./sbert_model\"\n",
    "\n",
    "print(f\"Downloading {model_name}...\")\n",
    "model = SentenceTransformer(model_name)\n",
    "model.save(save_path)\n",
    "print(f\"Model saved to {save_path}\")"
   ]
  },
  {
   "cell_type": "code",
   "execution_count": null,
   "id": "7122c797",
   "metadata": {},
   "outputs": [],
   "source": []
  }
 ],
 "metadata": {
  "kernelspec": {
   "display_name": "coffee-rating",
   "language": "python",
   "name": "python3"
  },
  "language_info": {
   "codemirror_mode": {
    "name": "ipython",
    "version": 3
   },
   "file_extension": ".py",
   "mimetype": "text/x-python",
   "name": "python",
   "nbconvert_exporter": "python",
   "pygments_lexer": "ipython3",
   "version": "3.11.13"
  }
 },
 "nbformat": 4,
 "nbformat_minor": 5
}
